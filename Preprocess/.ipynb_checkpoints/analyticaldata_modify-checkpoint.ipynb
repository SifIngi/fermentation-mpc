{
 "cells": [
  {
   "cell_type": "code",
   "execution_count": 77,
   "metadata": {},
   "outputs": [],
   "source": [
    "%matplotlib inline\n",
    "%run functions.ipynb\n",
    "\n",
    "import pandas as pd\n",
    "import numpy as np"
   ]
  },
  {
   "cell_type": "markdown",
   "metadata": {},
   "source": [
    "# Batch analytical data "
   ]
  },
  {
   "cell_type": "code",
   "execution_count": 4,
   "metadata": {},
   "outputs": [],
   "source": [
    "# Save and load other analytical data as dataframe, but in this file we do not have measurements on R9-12 and R19-R24\n",
    "other_compounds = 'analytical_data/20180814_SER_C0016_S&OA.XLS'\n",
    "other_compounds = pd.ExcelFile(other_compounds)\n",
    "other_compounds = other_compounds.parse('SampleConcentrations')\n",
    "\n",
    "# Save and load serine from R1-R12 \n",
    "serine_R1_to_R12 = 'analytical_data/C016_R1-R12_Serine.xlsx'\n",
    "serine_R1_to_R12 = pd.ExcelFile(serine_R1_to_R12)\n",
    "serine_R1_to_R12 = serine_R1_to_R12.parse('C016_R1-R12')"
   ]
  },
  {
   "cell_type": "markdown",
   "metadata": {},
   "source": [
    "## The raw data was an excel sheet with data from all experiments unorganised in 1 sheet\n",
    "\n",
    "## The following code organizes it into 1 excel file with 1 sheet for every reactor and has the sample time in order"
   ]
  },
  {
   "cell_type": "code",
   "execution_count": 5,
   "metadata": {},
   "outputs": [],
   "source": [
    "# Convert the two rows into series so we can join them together in order to get a header name with compoundname and concentration\n",
    "compound_name = other_compounds[2:3].squeeze()\n",
    "concentration = other_compounds[0:1].squeeze()\n",
    "\n",
    "header = compound_name.str.cat(concentration, sep = ', ')\n",
    "header = pd.DataFrame(header)\n",
    "\n",
    "# First transpose header row, then add header row into other compounds data. \n",
    "# This row is then put to be the actual header of the data frame.\n",
    "# Then names for the 2 first columns are added\n",
    "header = header.T \n",
    "other_compounds = other_compounds.append(header, ignore_index=True)\n",
    "other_compounds.columns = other_compounds.iloc[-1] # puts new row as a header\n",
    "other_compounds.columns.values[1] = 'Reactor_sample'\n",
    "other_compounds.columns.values[2] = 'DilF'\n",
    "\n",
    "# Drop the first 6 rows and delete column with nan as a header, also delete last to rows\n",
    "other_compounds.drop(other_compounds.index[0:6], inplace = True)\n",
    "other_compounds = other_compounds.loc[:, other_compounds.columns.notnull()] # this saves the columns that are not names nan\n",
    "other_compounds = other_compounds.drop(other_compounds.tail(2).index, inplace = False)\n",
    "\n",
    "# Now we can split the data into different data frames depending on the reactor number\n",
    "R1_compounds = other_compounds[other_compounds['Reactor_sample'].str.contains('R1_')]\n",
    "R2_compounds = other_compounds[other_compounds['Reactor_sample'].str.contains('R2_')]\n",
    "R3_compounds = other_compounds[other_compounds['Reactor_sample'].str.contains('R3_')]\n",
    "R4_compounds = other_compounds[other_compounds['Reactor_sample'].str.contains('R4_')]\n",
    "R5_compounds = other_compounds[other_compounds['Reactor_sample'].str.contains('R5_')]\n",
    "R6_compounds = other_compounds[other_compounds['Reactor_sample'].str.contains('R6_')]\n",
    "R7_compounds = other_compounds[other_compounds['Reactor_sample'].str.contains('R7_')]\n",
    "R8_compounds = other_compounds[other_compounds['Reactor_sample'].str.contains('R8_')]"
   ]
  },
  {
   "cell_type": "markdown",
   "metadata": {},
   "source": [
    "### Add biomass and time to the data "
   ]
  },
  {
   "cell_type": "code",
   "execution_count": 6,
   "metadata": {},
   "outputs": [],
   "source": [
    "OD_R = 'OD_values.xlsx'\n",
    "R1_compounds = add_biomass_time(OD_R, R1_compounds, 1)\n",
    "R2_compounds = add_biomass_time(OD_R, R2_compounds, 2)\n",
    "R3_compounds = add_biomass_time(OD_R, R3_compounds, 3)\n",
    "R4_compounds = add_biomass_time(OD_R, R4_compounds, 4)\n",
    "R5_compounds = add_biomass_time(OD_R, R5_compounds, 5)\n",
    "R6_compounds = add_biomass_time(OD_R, R6_compounds, 6)\n",
    "R7_compounds = add_biomass_time(OD_R, R7_compounds, 7)\n",
    "R8_compounds = add_biomass_time(OD_R, R8_compounds, 8)"
   ]
  },
  {
   "cell_type": "code",
   "execution_count": 7,
   "metadata": {},
   "outputs": [],
   "source": [
    "# Make an excel file for further use\n",
    "writer = pd.ExcelWriter('analytical_data/modified_analytical_data/compounds_batch.xlsx')\n",
    "\n",
    "R1_compounds.to_excel(writer,'R1_compounds')\n",
    "R2_compounds.to_excel(writer,'R2_compounds')\n",
    "R3_compounds.to_excel(writer,'R3_compounds')\n",
    "R4_compounds.to_excel(writer,'R4_compounds')\n",
    "R5_compounds.to_excel(writer,'R5_compounds')\n",
    "R6_compounds.to_excel(writer,'R6_compounds')\n",
    "R7_compounds.to_excel(writer,'R7_compounds')\n",
    "R8_compounds.to_excel(writer,'R8_compounds')\n",
    "\n",
    "writer.save()"
   ]
  },
  {
   "cell_type": "markdown",
   "metadata": {},
   "source": [
    "## Later I received the rest of the data "
   ]
  },
  {
   "cell_type": "code",
   "execution_count": 8,
   "metadata": {},
   "outputs": [],
   "source": [
    "# Save and load other analytical data on R9-12 and R19-R24\n",
    "other_compounds_R9_R24 = 'analytical_data/C016_R9-12&R19-24_S&OA.xlsx'\n",
    "other_compounds_R9_R24 = pd.ExcelFile(other_compounds_R9_R24)\n",
    "other_compounds_R9_R24 = other_compounds_R9_R24.parse('SampleConcentrations')\n",
    "\n",
    "# Convert the two rows into series so we can join them together\n",
    "compound_name_R9_R24 = other_compounds_R9_R24[2:3].squeeze()\n",
    "concentration = other_compounds_R9_R24[0:1].squeeze()\n",
    "\n",
    "header = compound_name_R9_R24.str.cat(concentration, sep = ' ')\n",
    "header = pd.DataFrame(header)\n",
    "\n",
    "# First transpose header row, then add header row into other compounds data. \n",
    "# This row is then put to be the actual header of the data frame.\n",
    "# Then names for the 2 first columns are added\n",
    "header = header.T\n",
    "other_compounds_R9_R24 = other_compounds_R9_R24.append(header, ignore_index=True)\n",
    "other_compounds_R9_R24.columns = other_compounds_R9_R24.iloc[-1]\n",
    "other_compounds_R9_R24.columns.values[1] = 'Reactor_sample'\n",
    "other_compounds_R9_R24.columns.values[2] = 'DilF'\n",
    "\n",
    "# Drop the first 3 rows and delete column with nan as a header, also delete last to rows\n",
    "other_compounds_R9_R24.drop(other_compounds_R9_R24.index[0:3], inplace = True)\n",
    "other_compounds_R9_R24 = other_compounds_R9_R24.loc[:, other_compounds_R9_R24.columns.notnull()]\n",
    "other_compounds_R9_R24 = other_compounds_R9_R24.drop(other_compounds_R9_R24.tail(3).index, inplace = False)\n",
    "\n",
    "# Now we can split the data into different data frames depending on the reactor number\n",
    "\n",
    "R9_compounds = other_compounds_R9_R24[other_compounds_R9_R24['Reactor_sample'].str.contains('R9_')]\n",
    "R10_compounds = other_compounds_R9_R24[other_compounds_R9_R24['Reactor_sample'].str.contains('R10_')]\n",
    "R11_compounds = other_compounds_R9_R24[other_compounds_R9_R24['Reactor_sample'].str.contains('R11_')]\n",
    "R12_compounds = other_compounds_R9_R24[other_compounds_R9_R24['Reactor_sample'].str.contains('R12_')]"
   ]
  },
  {
   "cell_type": "markdown",
   "metadata": {},
   "source": [
    "### Add biomass and time to the data "
   ]
  },
  {
   "cell_type": "code",
   "execution_count": 9,
   "metadata": {},
   "outputs": [],
   "source": [
    "R9_compounds = add_biomass_time(OD_R, R9_compounds, 9)\n",
    "R10_compounds = add_biomass_time(OD_R, R10_compounds, 10)\n",
    "R11_compounds = add_biomass_time(OD_R, R11_compounds, 11)\n",
    "R12_compounds = add_biomass_time(OD_R, R12_compounds, 12)"
   ]
  },
  {
   "cell_type": "code",
   "execution_count": 10,
   "metadata": {},
   "outputs": [],
   "source": [
    "# Make an excel file for further use\n",
    "\n",
    "writer = pd.ExcelWriter('analytical_data/modified_analytical_data/compounds_batch_R9toR12.xlsx')\n",
    "\n",
    "R9_compounds.to_excel(writer,'R9_compounds')\n",
    "R10_compounds.to_excel(writer,'R10_compounds')\n",
    "R11_compounds.to_excel(writer,'R11_compounds')\n",
    "R12_compounds.to_excel(writer,'R12_compounds')\n",
    "\n",
    "writer.save()"
   ]
  },
  {
   "cell_type": "markdown",
   "metadata": {},
   "source": [
    "# Fed batch analytical data"
   ]
  },
  {
   "cell_type": "code",
   "execution_count": 83,
   "metadata": {},
   "outputs": [],
   "source": [
    "# Here the data for R19-R24\n",
    "other_compounds = 'analytical_data/C016_R9-12&R19-24_S&OA.xlsx'\n",
    "other_compounds = pd.ExcelFile(other_compounds)\n",
    "other_compounds = other_compounds.parse('SampleConcentrations')\n",
    "\n",
    "# Convert the two rows into series so we can join them together in order to get a header name with compoundname and concentration\n",
    "compound_name = other_compounds[2:3].squeeze()\n",
    "concentration = other_compounds[0:1].squeeze()\n",
    "\n",
    "header = compound_name.str.cat(concentration, sep = ' ')\n",
    "header = pd.DataFrame(header)\n",
    "\n",
    "# First transpose header row, then add header row into other compounds data. \n",
    "# This row is then put to be the actual header of the data frame.\n",
    "# Then names for the 2 first columns are added\n",
    "header = header.T\n",
    "other_compounds = other_compounds.append(header, ignore_index=True)\n",
    "other_compounds.columns = other_compounds.iloc[-1]\n",
    "other_compounds.columns.values[1] = 'Reactor_sample'\n",
    "other_compounds.columns.values[2] = 'DilF'\n",
    "\n",
    "# Drop the first 6 rows and delete column with nan as a header, also delete last to rows\n",
    "other_compounds.drop(other_compounds.index[0:6], inplace = True)\n",
    "other_compounds = other_compounds.loc[:, other_compounds.columns.notnull()] # this saves the columns that are not named nan\n",
    "other_compounds = other_compounds.drop(other_compounds.tail(2).index, inplace = False)\n",
    "\n",
    "# Collect the dataR22_compounds.reset_index(inplace=True, drop=True)\n",
    "R23_compounds = other_compounds[other_compounds['Reactor_sample'].str.contains('R23_')]\n",
    "R23_compounds.reset_index(inplace=True, drop=True)\n",
    "R24_compounds = other_compounds[other_compounds['Reactor_sample'].str.contains('R24_')]\n",
    "R24_compounds.reset_index(inplace=True, drop=True)\n"
   ]
  },
  {
   "cell_type": "code",
   "execution_count": 90,
   "metadata": {},
   "outputs": [],
   "source": [
    "# Generates the sample time\n",
    "time_23 = sample_time_fedbatch(22, 37, 52)\n",
    "time_24 = sample_time_fedbatch(22, 34, 17)"
   ]
  },
  {
   "cell_type": "code",
   "execution_count": 96,
   "metadata": {},
   "outputs": [],
   "source": [
    "# Then add serine and OD values - and convert the OD to biomass. \n",
    "R23_compounds = add_time_bio_ser(R23_compounds, 23, time_23)\n",
    "R24_compounds = add_time_bio_ser(R24_compounds, 24, time_24)"
   ]
  },
  {
   "cell_type": "code",
   "execution_count": 92,
   "metadata": {},
   "outputs": [],
   "source": [
    "writer = pd.ExcelWriter('analytical_data/modified_analytical_data/compounds_fedbatch_ser.xlsx')\n",
    "\n",
    "R23_compounds.to_excel(writer,'R23_compounds')\n",
    "R24_compounds.to_excel(writer,'R24_compounds')\n",
    "\n",
    "writer.save()"
   ]
  },
  {
   "cell_type": "markdown",
   "metadata": {},
   "source": [
    "## Create data frame with amounts from only the oxidative state"
   ]
  },
  {
   "cell_type": "code",
   "execution_count": 98,
   "metadata": {},
   "outputs": [],
   "source": [
    "# Read and parse compounds from R23\n",
    "R23 = pd.ExcelFile('analytical_data/modified_analytical_data/compounds_fedbatch_ser.xlsx')\n",
    "R23 = pd.ExcelFile(R23)\n",
    "R23 = R23.parse('R23_compounds')\n",
    "R23 = R23.replace(['n.a.'],[np.nan])\n",
    "\n",
    "# Add time and volume\n",
    "sample_R23 = pd.read_csv('modified_online_data/sample_volume_and_time_R23.csv')\n",
    "R23['New Time'] = sample_R23['Time']\n",
    "R23['Volume (L)'] = sample_R23['Bioreactor 23 - Volume']/1000\n",
    "\n",
    "# Convert to amounts\n",
    "R23_amounts = pd.DataFrame()\n",
    "R23_amounts['Time (hours)'] = R23['New Time'] \n",
    "R23_amounts['Glucose (g)'] = R23['Glucose µg/µL']*R23['Volume (L)']\n",
    "R23_amounts['Biomass (g)'] = R23['Biomass g/L']*R23['Volume (L)']\n",
    "R23_amounts['Serine (g)'] = R23['Serine g/L']*R23['Volume (L)']\n",
    "\n",
    "R23_amounts.drop(R23_amounts.tail(10).index,inplace=True)\n",
    "R23_amounts.to_csv('estimation/fedbatch_amounts/R23_amounts.csv')"
   ]
  },
  {
   "cell_type": "code",
   "execution_count": 102,
   "metadata": {},
   "outputs": [],
   "source": [
    "# Read and parse compounds from R24\n",
    "R24 = pd.ExcelFile('analytical_data/modified_analytical_data/compounds_fedbatch_ser.xlsx')\n",
    "R24 = pd.ExcelFile(R24)\n",
    "R24 = R24.parse('R24_compounds')\n",
    "R24 = R24.replace(['n.a.'],[np.nan])\n",
    "\n",
    "# Add time and volume\n",
    "sample_R24 = pd.read_csv('modified_online_data/sample_volume_and_time_R24.csv')\n",
    "R24['New Time'] = sample_R24['Time']\n",
    "R24['Volume (L)'] = sample_R24['Bioreactor 24 - Volume']/1000\n",
    "\n",
    "# Convert to amounts\n",
    "R24_amounts = pd.DataFrame()\n",
    "R24_amounts['Time (hours)'] = R24['New Time'] \n",
    "R24_amounts['Glucose (g)'] = R24['Glucose µg/µL']*R24['Volume (L)']\n",
    "R24_amounts['Biomass (g)'] = R24['Biomass g/L']*R24['Volume (L)']\n",
    "R24_amounts['Serine (g)'] = R24['Serine g/L']*R24['Volume (L)']\n",
    "R24_amounts.drop(R24_amounts.tail(10).index,inplace=True)\n",
    "\n",
    "# Delete an outlier and save as csv\n",
    "R24_amounts['Glucose (g)'][2] = 'NaN'\n",
    "R24_amounts.to_csv('estimation/fedbatch_amounts/R24_amounts.csv')"
   ]
  },
  {
   "cell_type": "code",
   "execution_count": null,
   "metadata": {},
   "outputs": [],
   "source": []
  }
 ],
 "metadata": {
  "kernelspec": {
   "display_name": "Python 3",
   "language": "python",
   "name": "python3"
  },
  "language_info": {
   "codemirror_mode": {
    "name": "ipython",
    "version": 3
   },
   "file_extension": ".py",
   "mimetype": "text/x-python",
   "name": "python",
   "nbconvert_exporter": "python",
   "pygments_lexer": "ipython3",
   "version": "3.6.5"
  }
 },
 "nbformat": 4,
 "nbformat_minor": 2
}
