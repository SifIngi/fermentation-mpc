{
 "cells": [
  {
   "cell_type": "code",
   "execution_count": 52,
   "metadata": {},
   "outputs": [],
   "source": [
    "import pandas as pd\n",
    "import matplotlib\n",
    "import matplotlib.pyplot as plt"
   ]
  },
  {
   "cell_type": "code",
   "execution_count": 53,
   "metadata": {},
   "outputs": [],
   "source": [
    "def plot_cer_co2(R, number):\n",
    "    plt.figure(1,figsize=(16, 14))\n",
    "    ax1 = plt.subplot(212)\n",
    "    plt.plot(R['Time (min)']/60, R['Bioreactor ' + str(number) + ' - CER'])\n",
    "    plt.setp(ax1.get_xticklabels(), fontsize=6)\n",
    "    plt.xlabel('Time (hour)', fontsize = 20)\n",
    "    plt.ylabel('CER (CO2 % / min)', fontsize = 20)\n",
    "    plt.tick_params(labelsize=15)\n",
    "\n",
    "    ax2 = plt.subplot(211, sharex=ax1)\n",
    "    plt.plot(R['Time (min)']/60, R['Bioreactor ' + str(number) + ' - Off-gas CO2%'])\n",
    "    plt.setp(ax2.get_xticklabels(), visible=False)\n",
    "    plt.ylabel('CO2 %', fontsize = 20)\n",
    "    plt.title('Reactor ' + str(number), fontsize = 20)\n",
    "    plt.tick_params(labelsize=15)\n",
    "\n",
    "    plt.show()"
   ]
  },
  {
   "cell_type": "code",
   "execution_count": 54,
   "metadata": {},
   "outputs": [],
   "source": [
    "def calculate_mu(R, number):\n",
    "    data_frame_selected_values = R[np.isfinite(R['Bioreactor ' + str(number) + ' - CER'])]\n",
    "    data_frame_selected_values.reset_index(inplace=True, drop=True)\n",
    "    data_frame_selected_values = data_frame_selected_values.copy()\n",
    "    data_frame_selected_values['Time (min)'] = data_frame_selected_values['Time (min)']-data_frame_selected_values['Time (min)'][0]\n",
    "\n",
    "    tCER = []\n",
    "    tCER.append(0)  # Here set the initial value of tCER if we have that.\n",
    "\n",
    "    for i in range(0, (len(data_frame_selected_values['Time (min)']) - 1)):\n",
    "\n",
    "        tCER_i = ((data_frame_selected_values['Bioreactor ' + str(number) + ' - CER'][i] + data_frame_selected_values['Bioreactor ' + str(number) + ' - CER'][i + 1]) / 2) * (data_frame_selected_values['Time (min)'][i + 1] - data_frame_selected_values['Time (min)'][i]) + tCER[i]\n",
    "        tCER.append(tCER_i)\n",
    "\n",
    "    mu = data_frame_selected_values['Bioreactor ' + str(number) + ' - CER'] / tCER  # [1/min]\n",
    "    \n",
    "    return data_frame_selected_values, mu"
   ]
  },
  {
   "cell_type": "code",
   "execution_count": 55,
   "metadata": {},
   "outputs": [],
   "source": [
    "def plot_mu(data_frame_selected_values, mu):\n",
    "    \n",
    "    plt.figure(1,figsize=(16, 7))\n",
    "    plt.plot(data_frame_selected_values['Time (min)']/60, mu*60)\n",
    "    #plt.setp(ax2.get_xticklabels(), visible=False)\n",
    "    plt.ylabel('mu (1/hour)', fontsize = 20)\n",
    "    plt.xlabel('Time (hour)', fontsize = 20)\n",
    "    #plt.title('Reactor ' + str(number), fontsize = 20)\n",
    "    plt.tick_params(labelsize=15)\n",
    "\n",
    "\n",
    "    plt.show()\n",
    "    "
   ]
  },
  {
   "cell_type": "code",
   "execution_count": null,
   "metadata": {},
   "outputs": [],
   "source": [
    "def plot_mu_smaller_interval(data_frame_selected_values, mu):\n",
    "\n",
    "    plt.figure(1,figsize=(16, 7))\n",
    "    plt.plot(data_frame_selected_values['Time (min)'][0:40]/60, mu[0:40]*60)\n",
    "    #plt.setp(ax2.get_xticklabels(), visible=False)\n",
    "    plt.ylabel('mu (1/hour)', fontsize = 20)\n",
    "    plt.xlabel('Time (hour)', fontsize = 20)\n",
    "    #plt.title('Reactor ' + str(number), fontsize = 20)\n",
    "    plt.tick_params(labelsize=15)\n",
    "\n",
    "\n",
    "    plt.show()"
   ]
  },
  {
   "cell_type": "code",
   "execution_count": null,
   "metadata": {},
   "outputs": [],
   "source": [
    "def time_converter(sample_timepoints):\n",
    "    sample_timepoints = pd.ExcelFile(sample_timepoints)\n",
    "    sample_timepoints = sample_timepoints.parse('Sheet1')\n",
    "\n",
    "\n",
    "    # alle starter fra 14:30, derfor kan denne metode bruges til alle \n",
    "    # Create a dataframe to put the result in (which is the converted time to decimals)\n",
    "    sample_timepoints_decimals = pd.DataFrame(columns=['time (hours)'])\n",
    "\n",
    "\n",
    "    # This loops through all datapoints,\n",
    "    # convert it string, splits and calculate the time to minutes in decimals\n",
    "    for i in range(len(sample_timepoints)):\n",
    "        t = sample_timepoints['timepoints'][i]\n",
    "        t = str(t)\n",
    "        (h, m, s) = t.split(':')\n",
    "        result = int(h) * 60 + int(m) + int(s) / 60\n",
    "        sample_timepoints_decimals.loc[\n",
    "        i, ['time (hours)']] = result \n",
    "\n",
    "    # To get hours instead and add 24 hours to next day\n",
    "    time_hours = sample_timepoints_decimals/60\n",
    "    next_day = time_hours[8:11] + 24\n",
    "    time_hours = time_hours.drop(time_hours.tail(3).index,inplace=False)\n",
    "\n",
    "    # \n",
    "    time_hours = time_hours.append(next_day, ignore_index=True)\n",
    "    time_hours = time_hours-11+44.5\n",
    "    return time_hours"
   ]
  }
 ],
 "metadata": {
  "kernelspec": {
   "display_name": "Python 3",
   "language": "python",
   "name": "python3"
  },
  "language_info": {
   "codemirror_mode": {
    "name": "ipython",
    "version": 3
   },
   "file_extension": ".py",
   "mimetype": "text/x-python",
   "name": "python",
   "nbconvert_exporter": "python",
   "pygments_lexer": "ipython3",
   "version": "3.6.5"
  }
 },
 "nbformat": 4,
 "nbformat_minor": 2
}
